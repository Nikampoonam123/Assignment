{
 "cells": [
  {
   "cell_type": "code",
   "execution_count": 1,
   "id": "93ff2a2a",
   "metadata": {},
   "outputs": [],
   "source": [
    "# Import Libraries\n",
    "import pandas as pd\n",
    "import matplotlib.pyplot as plt\n",
    "%matplotlib inline\n",
    "import seaborn as sns\n",
    "import warnings\n",
    "warnings.filterwarnings('ignore')"
   ]
  },
  {
   "cell_type": "markdown",
   "id": "78c7b3a1",
   "metadata": {},
   "source": [
    "#  Set 1"
   ]
  },
  {
   "cell_type": "markdown",
   "id": "aeb7002a",
   "metadata": {},
   "source": [
    "## Q1"
   ]
  },
  {
   "cell_type": "code",
   "execution_count": 2,
   "id": "8b6d8781",
   "metadata": {},
   "outputs": [
    {
     "data": {
      "text/plain": [
       "{'Name_of_company': ['Allied Signal',\n",
       "  'Bankers Trust',\n",
       "  'General Mills',\n",
       "  'ITT Industries',\n",
       "  'J.P.Morgan & Co.',\n",
       "  'LehmanBrothers',\n",
       "  'Marrio\\ue000',\n",
       "  'MCI',\n",
       "  'Merrill Lynch',\n",
       "  'Microso\\ue001',\n",
       "  'Morgan Stanley',\n",
       "  'SunMicrosystems',\n",
       "  'Travelers',\n",
       "  'US Airways',\n",
       "  'Warner-Lambert'],\n",
       " 'Measure': 0     24.23\n",
       " 1     25.53\n",
       " 2     25.41\n",
       " 3     24.14\n",
       " 4     29.62\n",
       " 5     28.25\n",
       " 6     25.81\n",
       " 7     24.39\n",
       " 8     40.26\n",
       " 9     32.95\n",
       " 10    91.36\n",
       " 11    25.99\n",
       " 12    39.42\n",
       " 13    26.71\n",
       " 14    35.00\n",
       " dtype: float64}"
      ]
     },
     "execution_count": 2,
     "metadata": {},
     "output_type": "execute_result"
    }
   ],
   "source": [
    "names= [\"Allied Signal\",\"Bankers Trust\",\"General Mills\",\"ITT Industries\",\"J.P.Morgan & Co.\",\"LehmanBrothers\",\n",
    "        \"Marrio\",\"MCI\",\"Merrill Lynch\",\"Microso\",\"Morgan Stanley\",\"SunMicrosystems\",\"Travelers\",\"US Airways\",\n",
    "        \"Warner-Lambert\"]\n",
    "data = pd.Series([24.23,25.53,25.41,24.14,29.62,28.25,25.81,24.39,40.26,32.95,91.36,25.99,39.42,26.71,35.00])\n",
    "df = {'Name_of_company': names,\n",
    "     'Measure': data}\n",
    "df"
   ]
  },
  {
   "cell_type": "code",
   "execution_count": 3,
   "id": "c5bfcb1c",
   "metadata": {},
   "outputs": [
    {
     "data": {
      "text/html": [
       "<div>\n",
       "<style scoped>\n",
       "    .dataframe tbody tr th:only-of-type {\n",
       "        vertical-align: middle;\n",
       "    }\n",
       "\n",
       "    .dataframe tbody tr th {\n",
       "        vertical-align: top;\n",
       "    }\n",
       "\n",
       "    .dataframe thead th {\n",
       "        text-align: right;\n",
       "    }\n",
       "</style>\n",
       "<table border=\"1\" class=\"dataframe\">\n",
       "  <thead>\n",
       "    <tr style=\"text-align: right;\">\n",
       "      <th></th>\n",
       "      <th>Name_of_company</th>\n",
       "      <th>Measure</th>\n",
       "    </tr>\n",
       "  </thead>\n",
       "  <tbody>\n",
       "    <tr>\n",
       "      <th>0</th>\n",
       "      <td>Allied Signal</td>\n",
       "      <td>24.23</td>\n",
       "    </tr>\n",
       "    <tr>\n",
       "      <th>1</th>\n",
       "      <td>Bankers Trust</td>\n",
       "      <td>25.53</td>\n",
       "    </tr>\n",
       "    <tr>\n",
       "      <th>2</th>\n",
       "      <td>General Mills</td>\n",
       "      <td>25.41</td>\n",
       "    </tr>\n",
       "    <tr>\n",
       "      <th>3</th>\n",
       "      <td>ITT Industries</td>\n",
       "      <td>24.14</td>\n",
       "    </tr>\n",
       "    <tr>\n",
       "      <th>4</th>\n",
       "      <td>J.P.Morgan &amp; Co.</td>\n",
       "      <td>29.62</td>\n",
       "    </tr>\n",
       "    <tr>\n",
       "      <th>5</th>\n",
       "      <td>LehmanBrothers</td>\n",
       "      <td>28.25</td>\n",
       "    </tr>\n",
       "    <tr>\n",
       "      <th>6</th>\n",
       "      <td>Marrio</td>\n",
       "      <td>25.81</td>\n",
       "    </tr>\n",
       "    <tr>\n",
       "      <th>7</th>\n",
       "      <td>MCI</td>\n",
       "      <td>24.39</td>\n",
       "    </tr>\n",
       "    <tr>\n",
       "      <th>8</th>\n",
       "      <td>Merrill Lynch</td>\n",
       "      <td>40.26</td>\n",
       "    </tr>\n",
       "    <tr>\n",
       "      <th>9</th>\n",
       "      <td>Microso</td>\n",
       "      <td>32.95</td>\n",
       "    </tr>\n",
       "    <tr>\n",
       "      <th>10</th>\n",
       "      <td>Morgan Stanley</td>\n",
       "      <td>91.36</td>\n",
       "    </tr>\n",
       "    <tr>\n",
       "      <th>11</th>\n",
       "      <td>SunMicrosystems</td>\n",
       "      <td>25.99</td>\n",
       "    </tr>\n",
       "    <tr>\n",
       "      <th>12</th>\n",
       "      <td>Travelers</td>\n",
       "      <td>39.42</td>\n",
       "    </tr>\n",
       "    <tr>\n",
       "      <th>13</th>\n",
       "      <td>US Airways</td>\n",
       "      <td>26.71</td>\n",
       "    </tr>\n",
       "    <tr>\n",
       "      <th>14</th>\n",
       "      <td>Warner-Lambert</td>\n",
       "      <td>35.00</td>\n",
       "    </tr>\n",
       "  </tbody>\n",
       "</table>\n",
       "</div>"
      ],
      "text/plain": [
       "     Name_of_company  Measure\n",
       "0      Allied Signal    24.23\n",
       "1      Bankers Trust    25.53\n",
       "2      General Mills    25.41\n",
       "3     ITT Industries    24.14\n",
       "4   J.P.Morgan & Co.    29.62\n",
       "5     LehmanBrothers    28.25\n",
       "6            Marrio    25.81\n",
       "7                MCI    24.39\n",
       "8      Merrill Lynch    40.26\n",
       "9           Microso    32.95\n",
       "10    Morgan Stanley    91.36\n",
       "11   SunMicrosystems    25.99\n",
       "12         Travelers    39.42\n",
       "13        US Airways    26.71\n",
       "14    Warner-Lambert    35.00"
      ]
     },
     "execution_count": 3,
     "metadata": {},
     "output_type": "execute_result"
    }
   ],
   "source": [
    "df = pd.DataFrame(df)\n",
    "df"
   ]
  },
  {
   "cell_type": "code",
   "execution_count": 4,
   "id": "e9d22cc6",
   "metadata": {},
   "outputs": [
    {
     "data": {
      "text/html": [
       "<div>\n",
       "<style scoped>\n",
       "    .dataframe tbody tr th:only-of-type {\n",
       "        vertical-align: middle;\n",
       "    }\n",
       "\n",
       "    .dataframe tbody tr th {\n",
       "        vertical-align: top;\n",
       "    }\n",
       "\n",
       "    .dataframe thead th {\n",
       "        text-align: right;\n",
       "    }\n",
       "</style>\n",
       "<table border=\"1\" class=\"dataframe\">\n",
       "  <thead>\n",
       "    <tr style=\"text-align: right;\">\n",
       "      <th></th>\n",
       "      <th>Measure</th>\n",
       "    </tr>\n",
       "  </thead>\n",
       "  <tbody>\n",
       "    <tr>\n",
       "      <th>count</th>\n",
       "      <td>15.000000</td>\n",
       "    </tr>\n",
       "    <tr>\n",
       "      <th>mean</th>\n",
       "      <td>33.271333</td>\n",
       "    </tr>\n",
       "    <tr>\n",
       "      <th>std</th>\n",
       "      <td>16.945401</td>\n",
       "    </tr>\n",
       "    <tr>\n",
       "      <th>min</th>\n",
       "      <td>24.140000</td>\n",
       "    </tr>\n",
       "    <tr>\n",
       "      <th>25%</th>\n",
       "      <td>25.470000</td>\n",
       "    </tr>\n",
       "    <tr>\n",
       "      <th>50%</th>\n",
       "      <td>26.710000</td>\n",
       "    </tr>\n",
       "    <tr>\n",
       "      <th>75%</th>\n",
       "      <td>33.975000</td>\n",
       "    </tr>\n",
       "    <tr>\n",
       "      <th>max</th>\n",
       "      <td>91.360000</td>\n",
       "    </tr>\n",
       "  </tbody>\n",
       "</table>\n",
       "</div>"
      ],
      "text/plain": [
       "         Measure\n",
       "count  15.000000\n",
       "mean   33.271333\n",
       "std    16.945401\n",
       "min    24.140000\n",
       "25%    25.470000\n",
       "50%    26.710000\n",
       "75%    33.975000\n",
       "max    91.360000"
      ]
     },
     "execution_count": 4,
     "metadata": {},
     "output_type": "execute_result"
    }
   ],
   "source": [
    "df.describe()"
   ]
  },
  {
   "cell_type": "code",
   "execution_count": 5,
   "id": "f5b522f1",
   "metadata": {},
   "outputs": [
    {
     "name": "stdout",
     "output_type": "stream",
     "text": [
      "Mean of the given data is  33.27133333333333\n"
     ]
    }
   ],
   "source": [
    "df['Measure'].mean()\n",
    "print('Mean of the given data is ',df['Measure'].mean())"
   ]
  },
  {
   "cell_type": "code",
   "execution_count": 6,
   "id": "105a82d7",
   "metadata": {},
   "outputs": [
    {
     "name": "stdout",
     "output_type": "stream",
     "text": [
      "variance of the given data is  287.1466123809524\n"
     ]
    }
   ],
   "source": [
    "df['Measure'].var()\n",
    "print('variance of the given data is ',df['Measure'].var())"
   ]
  },
  {
   "cell_type": "code",
   "execution_count": 7,
   "id": "34aa1773",
   "metadata": {},
   "outputs": [
    {
     "name": "stdout",
     "output_type": "stream",
     "text": [
      "Standard Deviation of the given data is  16.945400921222028\n"
     ]
    }
   ],
   "source": [
    "df['Measure'].std()\n",
    "print('Standard Deviation of the given data is ',df['Measure'].std())"
   ]
  },
  {
   "cell_type": "code",
   "execution_count": 8,
   "id": "45e450dd",
   "metadata": {},
   "outputs": [
    {
     "data": {
      "image/png": "[encoded data removed]",
      "text/plain": [
       "<Figure size 640x480 with 1 Axes>"
      ]
     },
     "metadata": {},
     "output_type": "display_data"
    }
   ],
   "source": [
    "plt.boxplot(df['Measure'])\n",
    "plt.show()"
   ]
  },
  {
   "cell_type": "code",
   "execution_count": 9,
   "id": "8c207ebc",
   "metadata": {},
   "outputs": [
    {
     "data": {
      "image/png": "[encoded data removed]",
      "text/plain": [
       "<Figure size 640x480 with 1 Axes>"
      ]
     },
     "metadata": {},
     "output_type": "display_data"
    }
   ],
   "source": [
    "plt.pie(data,labels=names,autopct='%0.0f%%')  \n",
    "plt.show()"
   ]
  },
  {
   "cell_type": "markdown",
   "id": "c21d897d",
   "metadata": {},
   "source": [
    "## Q5.  iii)"
   ]
  },
  {
   "cell_type": "code",
   "execution_count": 10,
   "id": "2c2b51d3",
   "metadata": {},
   "outputs": [
    {
     "data": {
      "text/plain": [
       "[-200.0, -100.0, 0.0, 200.0, 600.0, 300.0]"
      ]
     },
     "execution_count": 10,
     "metadata": {},
     "output_type": "execute_result"
    }
   ],
   "source": [
    "x = [-2000,-1000,0,1000,2000,3000]\n",
    "Prob_of_x = [0.1,0.1,0.2,0.2,0.3,0.1]\n",
    "x_mult_Prob = [x[i] * Prob_of_x[i] for i in range(len(x))]\n",
    "x_mult_Prob"
   ]
  },
  {
   "cell_type": "code",
   "execution_count": 11,
   "id": "981bcc4f",
   "metadata": {},
   "outputs": [
    {
     "name": "stdout",
     "output_type": "stream",
     "text": [
      "Expected value is 800.0\n"
     ]
    }
   ],
   "source": [
    "E_of_x = sum(x_mult_Prob)\n",
    "print(f'Expected value is {E_of_x}')"
   ]
  },
  {
   "cell_type": "markdown",
   "id": "5760d3b9",
   "metadata": {},
   "source": [
    "## Q5. iv)"
   ]
  },
  {
   "cell_type": "code",
   "execution_count": 12,
   "id": "e72e6645",
   "metadata": {},
   "outputs": [
    {
     "name": "stdout",
     "output_type": "stream",
     "text": [
      "[4000000, 1000000, 0, 1000000, 4000000, 9000000]\n"
     ]
    }
   ],
   "source": [
    "x2 = [x[i]*x[i] for i in range(len(x))]\n",
    "print(x2)"
   ]
  },
  {
   "cell_type": "code",
   "execution_count": 13,
   "id": "6101c45c",
   "metadata": {},
   "outputs": [
    {
     "data": {
      "text/plain": [
       "[400000.0, 100000.0, 0.0, 200000.0, 1200000.0, 900000.0]"
      ]
     },
     "execution_count": 13,
     "metadata": {},
     "output_type": "execute_result"
    }
   ],
   "source": [
    "x2_mult_Prob = [x2[i] * Prob_of_x[i] for i in range(len(x))]\n",
    "x2_mult_Prob"
   ]
  },
  {
   "cell_type": "code",
   "execution_count": 14,
   "id": "859dc32b",
   "metadata": {},
   "outputs": [
    {
     "name": "stdout",
     "output_type": "stream",
     "text": [
      "Variance of given probability distribution is 2160000.0\n"
     ]
    }
   ],
   "source": [
    "E_of_x2 = sum(x2_mult_Prob)\n",
    "\n",
    "Var = E_of_x2 - (E_of_x)**2\n",
    "print(f'Variance of given probability distribution is {Var}')"
   ]
  },
  {
   "cell_type": "code",
   "execution_count": 15,
   "id": "cf6e53bd",
   "metadata": {},
   "outputs": [
    {
     "name": "stdout",
     "output_type": "stream",
     "text": [
      "Standard deviation of given probability distribution is 1469.6938456699068\n"
     ]
    }
   ],
   "source": [
    "std = Var**0.5\n",
    "print(f'Standard deviation of given probability distribution is {std}')"
   ]
  },
  {
   "cell_type": "markdown",
   "id": "f6c24a32",
   "metadata": {},
   "source": [
    "# Set 2"
   ]
  },
  {
   "cell_type": "code",
   "execution_count": 16,
   "id": "86113c3f",
   "metadata": {},
   "outputs": [],
   "source": [
    "from scipy import stats\n",
    "import numpy as np"
   ]
  },
  {
   "cell_type": "markdown",
   "id": "22fea1de",
   "metadata": {},
   "source": [
    "## Q.1"
   ]
  },
  {
   "cell_type": "code",
   "execution_count": 17,
   "id": "747ac415",
   "metadata": {},
   "outputs": [
    {
     "data": {
      "text/plain": [
       "0.625"
      ]
     },
     "execution_count": 17,
     "metadata": {},
     "output_type": "execute_result"
    }
   ],
   "source": [
    "# The work begin after 10 min\n",
    "x= 50\n",
    "mu = 45\n",
    "sigma = 8\n",
    "# for normal distribution :- \n",
    "z = (x-mu)/sigma\n",
    "#z = (50-45)/8        \n",
    "z"
   ]
  },
  {
   "cell_type": "code",
   "execution_count": 18,
   "id": "b21ebfdf",
   "metadata": {},
   "outputs": [
    {
     "name": "stdout",
     "output_type": "stream",
     "text": [
      "Probability grater than 50 is 0.26598552904870054\n"
     ]
    }
   ],
   "source": [
    "# p(x>50)\n",
    "prob = 1- stats.norm.cdf(0.625)\n",
    "print (f'Probability grater than 50 is {prob}')"
   ]
  },
  {
   "cell_type": "markdown",
   "id": "e16a21f8",
   "metadata": {},
   "source": [
    "## Q.2 "
   ]
  },
  {
   "cell_type": "code",
   "execution_count": 19,
   "id": "45c5ec1a",
   "metadata": {},
   "outputs": [
    {
     "data": {
      "text/plain": [
       "0.8413447460685429"
      ]
     },
     "execution_count": 19,
     "metadata": {},
     "output_type": "execute_result"
    }
   ],
   "source": [
    "stats.norm.cdf(1)"
   ]
  },
  {
   "cell_type": "code",
   "execution_count": 20,
   "id": "45026356",
   "metadata": {},
   "outputs": [
    {
     "data": {
      "text/plain": [
       "0.5"
      ]
     },
     "execution_count": 20,
     "metadata": {},
     "output_type": "execute_result"
    }
   ],
   "source": [
    "stats.norm.cdf(0)"
   ]
  },
  {
   "cell_type": "code",
   "execution_count": 21,
   "id": "7c525580",
   "metadata": {},
   "outputs": [
    {
     "data": {
      "text/plain": [
       "0.09175913565028077"
      ]
     },
     "execution_count": 21,
     "metadata": {},
     "output_type": "execute_result"
    }
   ],
   "source": [
    "stats.norm.cdf(-1.33)"
   ]
  },
  {
   "cell_type": "markdown",
   "id": "abe890bf",
   "metadata": {},
   "source": [
    "## Q.4"
   ]
  },
  {
   "cell_type": "code",
   "execution_count": 22,
   "id": "8d7cbd44",
   "metadata": {},
   "outputs": [
    {
     "name": "stdout",
     "output_type": "stream",
     "text": [
      "The values of a and b is 48.5 and 151.5 respt.\n"
     ]
    }
   ],
   "source": [
    "a,b = np.round(stats.norm.interval(0.99, loc = 100, scale = 20),1)\n",
    "a,b\n",
    "print(f'The values of a and b is {a} and {b} respt.')"
   ]
  },
  {
   "cell_type": "markdown",
   "id": "6636fc41",
   "metadata": {},
   "source": [
    "## Q.5 A)"
   ]
  },
  {
   "cell_type": "code",
   "execution_count": 23,
   "id": "d536a524",
   "metadata": {},
   "outputs": [
    {
     "name": "stdout",
     "output_type": "stream",
     "text": [
      "Range is (99.00810347848784, 980.9918965215122)\n"
     ]
    }
   ],
   "source": [
    "print('Range is',stats.norm.interval(0.95,540,225))"
   ]
  },
  {
   "cell_type": "markdown",
   "id": "ec0d3fbc",
   "metadata": {},
   "source": [
    "## Q.5 B)"
   ]
  },
  {
   "cell_type": "code",
   "execution_count": 24,
   "id": "4811583a",
   "metadata": {},
   "outputs": [
    {
     "data": {
      "text/plain": [
       "-1.645"
      ]
     },
     "execution_count": 24,
     "metadata": {},
     "output_type": "execute_result"
    }
   ],
   "source": [
    "np.round(stats.norm.ppf(0.05),3)"
   ]
  },
  {
   "cell_type": "markdown",
   "id": "01e3713a",
   "metadata": {},
   "source": [
    "## Q.5 C)"
   ]
  },
  {
   "cell_type": "code",
   "execution_count": 25,
   "id": "3fdeaf5c",
   "metadata": {},
   "outputs": [
    {
     "name": "stdout",
     "output_type": "stream",
     "text": [
      "Probability of division 1 making a loss is 0.0477903522728147\n"
     ]
    }
   ],
   "source": [
    "Prob_lessthan_zero = stats.norm.cdf(0,5,3)\n",
    "print('Probability of division 1 making a loss is',Prob_lessthan_zero)"
   ]
  },
  {
   "cell_type": "code",
   "execution_count": 26,
   "id": "fd703bb7",
   "metadata": {},
   "outputs": [
    {
     "name": "stdout",
     "output_type": "stream",
     "text": [
      "Probability of division 2 making a loss is 0.040059156863817086\n"
     ]
    }
   ],
   "source": [
    "Prob_lessthan_zero = stats.norm.cdf(0,7,4)\n",
    "print('Probability of division 2 making a loss is',Prob_lessthan_zero)"
   ]
  },
  {
   "cell_type": "markdown",
   "id": "96672b12",
   "metadata": {},
   "source": [
    "# Set 3"
   ]
  },
  {
   "cell_type": "code",
   "execution_count": null,
   "id": "3e62955f",
   "metadata": {},
   "outputs": [],
   "source": []
  }
 ],
 "metadata": {
  "kernelspec": {
   "display_name": "Python 3 (ipykernel)",
   "language": "python",
   "name": "python3"
  },
  "language_info": {
   "codemirror_mode": {
    "name": "ipython",
    "version": 3
   },
   "file_extension": ".py",
   "mimetype": "text/x-python",
   "name": "python",
   "nbconvert_exporter": "python",
   "pygments_lexer": "ipython3",
   "version": "3.11.5"
  }
 },
 "nbformat": 4,
 "nbformat_minor": 5
}
